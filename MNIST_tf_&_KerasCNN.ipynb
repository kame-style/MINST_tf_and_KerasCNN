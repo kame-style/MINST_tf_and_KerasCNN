{
  "nbformat": 4,
  "nbformat_minor": 0,
  "metadata": {
    "colab": {
      "provenance": []
    },
    "kernelspec": {
      "name": "python3",
      "display_name": "Python 3"
    },
    "language_info": {
      "name": "python"
    }
  },
  "cells": [
    {
      "cell_type": "code",
      "metadata": {
        "id": "Dp-6DSRwqRW5"
      },
      "source": [
        "import tensorflow.compat.v1 as tf\n",
        "tf.disable_v2_behavior()\n",
        "import tensorflow as tf\n",
        "import numpy as np"
      ],
      "execution_count": 74,
      "outputs": []
    },
    {
      "cell_type": "code",
      "source": [
        "print(tf.__version__)"
      ],
      "metadata": {
        "colab": {
          "base_uri": "https://localhost:8080/"
        },
        "id": "bLpkHDXM8Thr",
        "outputId": "4ec90453-040e-413f-cbb8-270fea73999e"
      },
      "execution_count": 75,
      "outputs": [
        {
          "output_type": "stream",
          "name": "stdout",
          "text": [
            "2.12.0\n"
          ]
        }
      ]
    },
    {
      "cell_type": "code",
      "metadata": {
        "id": "TrHa-uvxtS8F"
      },
      "source": [
        "(train_images, train_labels), (test_images, test_labels) = tf.keras.datasets.mnist.load_data()"
      ],
      "execution_count": 76,
      "outputs": []
    },
    {
      "cell_type": "code",
      "metadata": {
        "colab": {
          "base_uri": "https://localhost:8080/"
        },
        "id": "H2x8tJJGX7d5",
        "outputId": "09114e85-9b73-469b-edb9-43cd8c6ef5ea"
      },
      "source": [
        "print(type(test_images[0]))\n",
        "print(test_images.shape)\n",
        "print(test_images[0].shape)"
      ],
      "execution_count": 77,
      "outputs": [
        {
          "output_type": "stream",
          "name": "stdout",
          "text": [
            "<class 'numpy.ndarray'>\n",
            "(10000, 28, 28)\n",
            "(28, 28)\n"
          ]
        }
      ]
    },
    {
      "cell_type": "code",
      "metadata": {
        "id": "Mg0OKceZtfZX"
      },
      "source": [
        "train_images=train_images.reshape(60000,784)\n",
        "test_images=test_images.reshape(10000,784)"
      ],
      "execution_count": 78,
      "outputs": []
    },
    {
      "cell_type": "code",
      "metadata": {
        "colab": {
          "base_uri": "https://localhost:8080/"
        },
        "id": "Jgc8s7GqXqdM",
        "outputId": "a722d98d-dba7-4fea-a0d0-e0ccec1b3785"
      },
      "source": [
        "print(test_images.shape)\n",
        "print(test_images[0].shape)"
      ],
      "execution_count": 79,
      "outputs": [
        {
          "output_type": "stream",
          "name": "stdout",
          "text": [
            "(10000, 784)\n",
            "(784,)\n"
          ]
        }
      ]
    },
    {
      "cell_type": "code",
      "metadata": {
        "colab": {
          "base_uri": "https://localhost:8080/"
        },
        "id": "1lK9SlwWtn3n",
        "outputId": "101786d4-5595-437f-bb4a-c0b87e4ee21e"
      },
      "source": [
        "train_labels.shape,test_labels.shape"
      ],
      "execution_count": 80,
      "outputs": [
        {
          "output_type": "execute_result",
          "data": {
            "text/plain": [
              "((60000,), (10000,))"
            ]
          },
          "metadata": {},
          "execution_count": 80
        }
      ]
    },
    {
      "cell_type": "code",
      "metadata": {
        "colab": {
          "base_uri": "https://localhost:8080/"
        },
        "id": "ylBwSuJYyzXh",
        "outputId": "1930f129-e614-4491-ca50-abe1e0ae1f4b"
      },
      "source": [
        "np.unique(train_labels)"
      ],
      "execution_count": 81,
      "outputs": [
        {
          "output_type": "execute_result",
          "data": {
            "text/plain": [
              "array([0, 1, 2, 3, 4, 5, 6, 7, 8, 9], dtype=uint8)"
            ]
          },
          "metadata": {},
          "execution_count": 81
        }
      ]
    },
    {
      "cell_type": "code",
      "metadata": {
        "colab": {
          "base_uri": "https://localhost:8080/"
        },
        "id": "hhCMz7Dly_-_",
        "outputId": "0a742487-9c3c-468a-ec99-2d26266f718d"
      },
      "source": [
        "from sklearn import preprocessing\n",
        "enc = preprocessing.OneHotEncoder()\n",
        "train_labels_a=train_labels.reshape(-1, 1)\n",
        "enc.fit(train_labels_a)\n",
        "\n",
        "onehotlabels = enc.transform(train_labels_a).toarray()\n",
        "print(onehotlabels.shape)\n",
        "print(train_labels[1])\n",
        "print(onehotlabels[1])\n",
        "\n",
        "train_labels=onehotlabels"
      ],
      "execution_count": 82,
      "outputs": [
        {
          "output_type": "stream",
          "name": "stdout",
          "text": [
            "(60000, 10)\n",
            "0\n",
            "[1. 0. 0. 0. 0. 0. 0. 0. 0. 0.]\n"
          ]
        }
      ]
    },
    {
      "cell_type": "code",
      "metadata": {
        "colab": {
          "base_uri": "https://localhost:8080/"
        },
        "id": "FLBh-tKb1oQZ",
        "outputId": "8d67b8ad-8ddf-4491-a0fa-703b4796bb8e"
      },
      "source": [
        "enc = preprocessing.OneHotEncoder()\n",
        "test_labels_a=test_labels.reshape(-1, 1)\n",
        "enc.fit(test_labels_a)\n",
        "\n",
        "onehotlabels_test = enc.transform(test_labels_a).toarray()\n",
        "print(onehotlabels_test.shape)\n",
        "print(test_labels[1])\n",
        "\n",
        "print(onehotlabels_test[1])\n",
        "\n",
        "test_labels=onehotlabels_test"
      ],
      "execution_count": 83,
      "outputs": [
        {
          "output_type": "stream",
          "name": "stdout",
          "text": [
            "(10000, 10)\n",
            "2\n",
            "[0. 0. 1. 0. 0. 0. 0. 0. 0. 0.]\n"
          ]
        }
      ]
    },
    {
      "cell_type": "code",
      "metadata": {
        "colab": {
          "base_uri": "https://localhost:8080/",
          "height": 447
        },
        "id": "So3GlE8Z2sTd",
        "outputId": "ab2ad425-02b5-43e8-e9aa-87a8ae6b2272"
      },
      "source": [
        "## plotting image\n",
        "import matplotlib.pyplot as plt\n",
        "\n",
        "image=train_images[0]\n",
        "image=np.array(image,dtype='float')\n",
        "image=image.reshape((28,28))\n",
        "\n",
        "print(train_labels[0])\n",
        "plt.imshow(image)\n",
        "plt.show()"
      ],
      "execution_count": 84,
      "outputs": [
        {
          "output_type": "stream",
          "name": "stdout",
          "text": [
            "[0. 0. 0. 0. 0. 1. 0. 0. 0. 0.]\n"
          ]
        },
        {
          "output_type": "display_data",
          "data": {
            "text/plain": [
              "<Figure size 640x480 with 1 Axes>"
            ],
            "image/png": "[encoded data removed]"
          },
          "metadata": {}
        }
      ]
    },
    {
      "cell_type": "code",
      "metadata": {
        "id": "04DhPDVF32Ur"
      },
      "source": [
        "## initializing weights and biases\n",
        "\n",
        "n_input=784\n",
        "n_hidden_1=256\n",
        "n_hidden_2=256\n",
        "n_classes=10\n",
        "\n",
        "weights={\n",
        "    'h1':tf.Variable(tf.random.normal([n_input,n_hidden_1])),\n",
        "    'h2':tf.Variable(tf.random.normal([n_hidden_1,n_hidden_2])),\n",
        "    'out':tf.Variable(tf.random.normal([n_hidden_2,n_classes]))\n",
        "}\n",
        "\n",
        "biases={\n",
        "    'h1':tf.Variable(tf.random.normal([n_hidden_1])),\n",
        "    'h2':tf.Variable(tf.random.normal([n_hidden_2])),\n",
        "    'out':tf.Variable(tf.random.normal([n_classes]))\n",
        "}"
      ],
      "execution_count": 85,
      "outputs": []
    },
    {
      "cell_type": "code",
      "metadata": {
        "id": "FOaiOn3LPuLB"
      },
      "source": [
        "## forward propagation\n",
        "\n",
        "def fwd_propagation(x,weights,biases):\n",
        "  in_layer1=tf.add(tf.matmul(x,weights['h1']),biases['h1'])\n",
        "  out_layer1=tf.nn.relu(in_layer1)                            ## rectified linear unit activation fn ( max(0,x)) ## basically we are replacing -ve values with 0\n",
        "\n",
        "  in_layer2=tf.add(tf.matmul(out_layer1,weights['h2']),biases['h2'])\n",
        "  out_layer2=tf.nn.relu(in_layer2)\n",
        "\n",
        "  output=tf.add(tf.matmul(out_layer2,weights['out']),biases['out'])\n",
        "  return output"
      ],
      "execution_count": 86,
      "outputs": []
    },
    {
      "cell_type": "code",
      "metadata": {
        "id": "G4uf0SAXR_e_"
      },
      "source": [
        "##predictions\n",
        "sess=tf.compat.v1.Session()\n",
        "sess.run(tf.compat.v1.global_variables_initializer())     # to initialize weights and biases\n",
        "x=tf.compat.v1.placeholder(\"float\" , [None,n_input])      # shape=[no_of_images,features]\n",
        "y=tf.compat.v1.placeholder(tf.int32 , [None,n_classes])   #shape=[no_of_images,total_no_of_classes]\n",
        "pred=fwd_propagation(x,weights,biases)"
      ],
      "execution_count": 87,
      "outputs": []
    },
    {
      "cell_type": "code",
      "metadata": {
        "id": "IV4lfbJrDHa1"
      },
      "source": [
        "## COST (inbuilt cost fn)\n",
        "\n",
        "cost=tf.reduce_mean(tf.nn.softmax_cross_entropy_with_logits(logits=pred,labels=y)) ## reduce mean - to calc mean"
      ],
      "execution_count": 88,
      "outputs": []
    },
    {
      "cell_type": "code",
      "metadata": {
        "id": "_-d3n46SVPB_"
      },
      "source": [
        "predictions=tf.argmax(pred,1)             # 1 -> axis\n",
        "true_labels=tf.argmax(y,1)\n",
        "correct_predictions=tf.equal(predictions,true_labels)"
      ],
      "execution_count": 89,
      "outputs": []
    },
    {
      "cell_type": "code",
      "metadata": {
        "colab": {
          "base_uri": "https://localhost:8080/"
        },
        "id": "k7psxY6CBtAc",
        "outputId": "43be8522-5315-4ea1-bbc0-e4d76dfa11c0"
      },
      "source": [
        "pred_eval,labels,correct_pred=sess.run([predictions,true_labels,correct_predictions],feed_dict={x:test_images,y:test_labels})\n",
        "pred_eval,labels,correct_pred"
      ],
      "execution_count": 90,
      "outputs": [
        {
          "output_type": "execute_result",
          "data": {
            "text/plain": [
              "(array([1, 1, 0, ..., 1, 1, 1]),\n",
              " array([7, 2, 1, ..., 4, 5, 6]),\n",
              " array([False, False, False, ..., False, False, False]))"
            ]
          },
          "metadata": {},
          "execution_count": 90
        }
      ]
    },
    {
      "cell_type": "code",
      "metadata": {
        "colab": {
          "base_uri": "https://localhost:8080/"
        },
        "id": "l2M8bcpZB7nw",
        "outputId": "4ed7e444-378b-4518-f96c-97a855cac088"
      },
      "source": [
        "correct_pred.sum()\n",
        "## out of 1000\n",
        "## WITHOUT OPTIMIZING"
      ],
      "execution_count": 91,
      "outputs": [
        {
          "output_type": "execute_result",
          "data": {
            "text/plain": [
              "1033"
            ]
          },
          "metadata": {},
          "execution_count": 91
        }
      ]
    },
    {
      "cell_type": "code",
      "metadata": {
        "id": "GT9bpS6WCv84"
      },
      "source": [
        "optimizer=tf.compat.v1.train.AdamOptimizer(learning_rate=0.09)\n",
        "#optimizer=tf.optimizers.Adam(learning_rate=0.09)\n",
        "optimize=optimizer.minimize(cost)"
      ],
      "execution_count": 92,
      "outputs": []
    },
    {
      "cell_type": "code",
      "metadata": {
        "id": "R47McAYgc0FR"
      },
      "source": [
        "sess=tf.compat.v1.Session()\n",
        "sess.run(tf.compat.v1.global_variables_initializer())"
      ],
      "execution_count": 96,
      "outputs": []
    },
    {
      "cell_type": "code",
      "metadata": {
        "id": "HkIk_XCQc-HQ",
        "colab": {
          "base_uri": "https://localhost:8080/"
        },
        "outputId": "58514578-3c5d-44d4-c46f-c76120a05ac5"
      },
      "source": [
        "for iter in range(100):\n",
        "   c,o=sess.run([cost,optimize],feed_dict={x:train_images,y:train_labels})\n",
        "   print(c)"
      ],
      "execution_count": 97,
      "outputs": [
        {
          "output_type": "stream",
          "name": "stdout",
          "text": [
            "338151.0\n",
            "1175262.0\n",
            "855934.0\n",
            "567184.25\n",
            "409346.94\n",
            "163830.94\n",
            "106747.23\n",
            "58761.977\n",
            "72731.2\n",
            "66595.55\n",
            "45647.5\n",
            "34167.62\n",
            "28337.361\n",
            "21430.527\n",
            "16933.004\n",
            "15744.301\n",
            "15268.559\n",
            "13677.862\n",
            "11662.125\n",
            "10076.987\n",
            "9089.239\n",
            "8520.747\n",
            "8128.524\n",
            "7736.546\n",
            "7282.273\n",
            "6766.161\n",
            "6230.3276\n",
            "5730.063\n",
            "5308.718\n",
            "4966.592\n",
            "4685.649\n",
            "4442.3804\n",
            "4207.555\n",
            "3990.6404\n",
            "3795.6555\n",
            "3618.6357\n",
            "3452.122\n",
            "3290.23\n",
            "3137.984\n",
            "2998.7734\n",
            "2873.8313\n",
            "2760.359\n",
            "2653.2576\n",
            "2550.7747\n",
            "2450.6052\n",
            "2354.904\n",
            "2266.629\n",
            "2184.7302\n",
            "2108.2393\n",
            "2034.8529\n",
            "1964.2023\n",
            "1897.4752\n",
            "1831.3988\n",
            "1767.5083\n",
            "1712.2693\n",
            "1665.1095\n",
            "1614.3575\n",
            "1569.9749\n",
            "1531.048\n",
            "1488.5581\n",
            "1443.5693\n",
            "1401.6921\n",
            "1362.4176\n",
            "1323.8934\n",
            "1289.2773\n",
            "1255.765\n",
            "1222.6195\n",
            "1193.528\n",
            "1163.3912\n",
            "1133.4403\n",
            "1107.9591\n",
            "1082.1268\n",
            "1057.5366\n",
            "1033.3777\n",
            "1009.0688\n",
            "984.9328\n",
            "962.5851\n",
            "942.8976\n",
            "919.9973\n",
            "900.62994\n",
            "883.2643\n",
            "862.89105\n",
            "845.1356\n",
            "827.07654\n",
            "809.1224\n",
            "793.93445\n",
            "777.7836\n",
            "761.9924\n",
            "746.1438\n",
            "732.75934\n",
            "719.9796\n",
            "704.47894\n",
            "692.5237\n",
            "679.90454\n",
            "666.7382\n",
            "654.761\n",
            "643.1748\n",
            "631.00745\n",
            "621.46173\n",
            "609.5122\n"
          ]
        }
      ]
    },
    {
      "cell_type": "code",
      "metadata": {
        "id": "pvMmzRg4dRP2",
        "colab": {
          "base_uri": "https://localhost:8080/"
        },
        "outputId": "7b34dd44-eaa9-488b-ae67-289e1d9136bc"
      },
      "source": [
        "predictions=tf.argmax(pred,1)             # 1 -> axis\n",
        "true_labels=tf.argmax(y,1)\n",
        "correct_predictions=tf.equal(predictions,true_labels)\n",
        "pred_eval,labels,correct_pred=sess.run([predictions,true_labels,correct_predictions],feed_dict={x:test_images,y:test_labels})\n",
        "\n",
        "\n",
        "print(pred_eval)\n",
        "print(labels)\n",
        "print(correct_pred)\n"
      ],
      "execution_count": 98,
      "outputs": [
        {
          "output_type": "stream",
          "name": "stdout",
          "text": [
            "[7 2 1 ... 4 5 6]\n",
            "[7 2 1 ... 4 5 6]\n",
            "[ True  True  True ...  True  True  True]\n"
          ]
        }
      ]
    },
    {
      "cell_type": "code",
      "source": [
        "##AFTER OPTIMIZING\n",
        "##Out if 10000 test images\n",
        "correct_pred.sum()"
      ],
      "metadata": {
        "id": "UoXPmIQbCijo",
        "colab": {
          "base_uri": "https://localhost:8080/"
        },
        "outputId": "e216250f-11b1-4491-e771-03f8ea0ac4d1"
      },
      "execution_count": 99,
      "outputs": [
        {
          "output_type": "execute_result",
          "data": {
            "text/plain": [
              "8282"
            ]
          },
          "metadata": {},
          "execution_count": 99
        }
      ]
    },
    {
      "cell_type": "code",
      "source": [
        "import tensorflow as tf"
      ],
      "metadata": {
        "id": "k5y0mdIJEDOq"
      },
      "execution_count": 100,
      "outputs": []
    },
    {
      "cell_type": "code",
      "source": [
        "(x_train, y_train), (x_test, y_test) = tf.keras.datasets.mnist.load_data(path=\"mnist.npz\")"
      ],
      "metadata": {
        "id": "ZzFBH5wUAUGN"
      },
      "execution_count": 101,
      "outputs": []
    },
    {
      "cell_type": "code",
      "source": [
        "print(type(x_train))\n",
        "print(x_train.shape)\n",
        "print(x_train[0].shape)"
      ],
      "metadata": {
        "id": "jOr42m6EAUJF",
        "colab": {
          "base_uri": "https://localhost:8080/"
        },
        "outputId": "f7631954-4873-41ed-a20e-2c84391a52da"
      },
      "execution_count": 102,
      "outputs": [
        {
          "output_type": "stream",
          "name": "stdout",
          "text": [
            "<class 'numpy.ndarray'>\n",
            "(60000, 28, 28)\n",
            "(28, 28)\n"
          ]
        }
      ]
    },
    {
      "cell_type": "code",
      "source": [
        "import matplotlib.pyplot as plt\n",
        "image=x_train[0]\n",
        "image=np.array(image,dtype='float')\n",
        "image=image.reshape((28,28))\n",
        "\n",
        "print(y_train[0])\n",
        "plt.imshow(image)\n",
        "plt.show()"
      ],
      "metadata": {
        "id": "Dl-L4TYuAUMN",
        "colab": {
          "base_uri": "https://localhost:8080/",
          "height": 447
        },
        "outputId": "9e4aff9c-5ae1-465a-d35c-bbd06c23273e"
      },
      "execution_count": 103,
      "outputs": [
        {
          "output_type": "stream",
          "name": "stdout",
          "text": [
            "5\n"
          ]
        },
        {
          "output_type": "display_data",
          "data": {
            "text/plain": [
              "<Figure size 640x480 with 1 Axes>"
            ],
            "image/png": "[encoded data removed]"
          },
          "metadata": {}
        }
      ]
    },
    {
      "cell_type": "code",
      "source": [
        "num_classes=10\n",
        "\n",
        "print(x_train.shape)\n",
        "print(x_train[0].shape)\n",
        "image=x_train[0]\n",
        "image=np.array(image,dtype='float')\n",
        "image=image.reshape((28,28))\n",
        "\n",
        "print(y_train[0])\n",
        "plt.imshow(image)\n",
        "plt.show()\n"
      ],
      "metadata": {
        "id": "J-kYV2RsAUPY",
        "colab": {
          "base_uri": "https://localhost:8080/",
          "height": 482
        },
        "outputId": "d3149da0-e0b5-4499-c1ec-46eaf2b427a4"
      },
      "execution_count": 104,
      "outputs": [
        {
          "output_type": "stream",
          "name": "stdout",
          "text": [
            "(60000, 28, 28)\n",
            "(28, 28)\n",
            "5\n"
          ]
        },
        {
          "output_type": "display_data",
          "data": {
            "text/plain": [
              "<Figure size 640x480 with 1 Axes>"
            ],
            "image/png": "[encoded data removed]"
          },
          "metadata": {}
        }
      ]
    },
    {
      "cell_type": "code",
      "source": [
        "x_train = np.expand_dims(x_train, -1) ##adds 1 more axis/dimension ##this is done bec we need channels\n",
        "x_test = np.expand_dims(x_test, -1)\n",
        "\n",
        "print(x_train.shape)\n",
        "print(x_train[0].shape)\n",
        "#x_train=np.reshape(x_train,(60000,28,28,1))\n",
        "#x_test=np.reshape(x_test,(10000,28,28,1))"
      ],
      "metadata": {
        "id": "VrTXs5geAUSH",
        "colab": {
          "base_uri": "https://localhost:8080/"
        },
        "outputId": "f0b166f0-ccfb-49fe-940e-4ccc30c341cb"
      },
      "execution_count": 105,
      "outputs": [
        {
          "output_type": "stream",
          "name": "stdout",
          "text": [
            "(60000, 28, 28, 1)\n",
            "(28, 28, 1)\n"
          ]
        }
      ]
    },
    {
      "cell_type": "code",
      "source": [
        "# convert class vectors to binary class matrices\n",
        "y_train = tf.keras.utils.to_categorical(y_train, num_classes)\n",
        "y_test = tf.keras.utils.to_categorical(y_test, num_classes)\n",
        "\n",
        "'''\n",
        "a = tf.keras.utils.to_categorical([0, 1, 2, 3], num_classes=4)\n",
        "print(a)\n",
        "\n",
        "[[1 0 0 0]\n",
        "[0 1 0 0]\n",
        "[0 0 1 0]\n",
        "[0 0 0 1]]\n",
        "'''\n"
      ],
      "metadata": {
        "id": "u5t1scUZAUUY",
        "colab": {
          "base_uri": "https://localhost:8080/",
          "height": 36
        },
        "outputId": "890dc746-d346-40ec-a782-cc2367911289"
      },
      "execution_count": 106,
      "outputs": [
        {
          "output_type": "execute_result",
          "data": {
            "text/plain": [
              "'\\na = tf.keras.utils.to_categorical([0, 1, 2, 3], num_classes=4)\\nprint(a)\\n\\n[[1 0 0 0]\\n[0 1 0 0]\\n[0 0 1 0]\\n[0 0 0 1]]\\n'"
            ],
            "application/vnd.google.colaboratory.intrinsic+json": {
              "type": "string"
            }
          },
          "metadata": {},
          "execution_count": 106
        }
      ]
    },
    {
      "cell_type": "code",
      "source": [
        "print(x_train.shape)\n",
        "print(y_train.shape)\n",
        "print(x_test.shape)\n",
        "print(y_test.shape)"
      ],
      "metadata": {
        "id": "_a4LYBUoAUXp",
        "colab": {
          "base_uri": "https://localhost:8080/"
        },
        "outputId": "65937576-3563-49a7-e5ed-ea44bbf0868f"
      },
      "execution_count": 107,
      "outputs": [
        {
          "output_type": "stream",
          "name": "stdout",
          "text": [
            "(60000, 28, 28, 1)\n",
            "(60000, 10)\n",
            "(10000, 28, 28, 1)\n",
            "(10000, 10)\n"
          ]
        }
      ]
    },
    {
      "cell_type": "code",
      "source": [
        "x_train[0].shape"
      ],
      "metadata": {
        "id": "BDevcQ0aAkCi",
        "colab": {
          "base_uri": "https://localhost:8080/"
        },
        "outputId": "1031dfda-5086-483e-b33d-df8675141d0d"
      },
      "execution_count": 108,
      "outputs": [
        {
          "output_type": "execute_result",
          "data": {
            "text/plain": [
              "(28, 28, 1)"
            ]
          },
          "metadata": {},
          "execution_count": 108
        }
      ]
    },
    {
      "cell_type": "code",
      "source": [
        "\n",
        "from tensorflow import keras\n",
        "from keras.models import Sequential\n",
        "from keras.layers import Conv2D , MaxPooling2D , Flatten , Dense , Dropout\n",
        "\n",
        "input_shape=(28,28,1)\n",
        "\n",
        "model=Sequential()\n",
        "model.add(Conv2D(32, (3,3) , strides=(1,1) , padding='same', input_shape= input_shape , activation = 'relu' ))\n",
        "model.add(MaxPooling2D(pool_size=(2,2),strides=None ))\n",
        "\n",
        "model.add(Conv2D(64, (3,3) , strides=(1,1) , padding='same',  activation = 'relu' ))\n",
        "model.add(MaxPooling2D(pool_size=(2,2),strides=None ))\n",
        "\n",
        "model.add(Flatten())\n",
        "model.add(Dropout(0.2))\n",
        "model.add(Dense(10,activation='softmax'))  ## 10 -> no_of_classes\n",
        "\n"
      ],
      "metadata": {
        "id": "G3Jw9I5_AkEy"
      },
      "execution_count": 109,
      "outputs": []
    },
    {
      "cell_type": "code",
      "source": [
        "model.compile(loss='categorical_crossentropy',\n",
        "              optimizer='adam',\n",
        "              metrics=['accuracy'])\n",
        "\n",
        "model.fit(x_train,\n",
        "          y_train ,\n",
        "          batch_size=32,\n",
        "          validation_split=0.1,\n",
        "          epochs=10)\n",
        "\n",
        "model.summary()"
      ],
      "metadata": {
        "id": "XR633UEXAkIE",
        "colab": {
          "base_uri": "https://localhost:8080/"
        },
        "outputId": "982fe838-6e20-42ba-aca9-cffd3302e492"
      },
      "execution_count": 110,
      "outputs": [
        {
          "output_type": "stream",
          "name": "stdout",
          "text": [
            "Train on 54000 samples, validate on 6000 samples\n",
            "Epoch 1/10\n",
            "53984/54000 [============================>.] - ETA: 0s - loss: 0.3517 - acc: 0.9386"
          ]
        },
        {
          "output_type": "stream",
          "name": "stderr",
          "text": [
            "/usr/local/lib/python3.10/dist-packages/keras/engine/training_v1.py:2335: UserWarning: `Model.state_updates` will be removed in a future version. This property should not be used in TensorFlow 2.0, as `updates` are applied automatically.\n",
            "  updates = self.state_updates\n"
          ]
        },
        {
          "output_type": "stream",
          "name": "stdout",
          "text": [
            "\b\b\b\b\b\b\b\b\b\b\b\b\b\b\b\b\b\b\b\b\b\b\b\b\b\b\b\b\b\b\b\b\b\b\b\b\b\b\b\b\b\b\b\b\b\b\b\b\b\b\b\b\b\b\b\b\b\b\b\b\b\b\b\b\b\b\b\b\b\b\b\b\b\b\b\b\b\b\b\b\b\b\b\r54000/54000 [==============================] - 74s 1ms/sample - loss: 0.3516 - acc: 0.9386 - val_loss: 0.0745 - val_acc: 0.9782\n",
            "Epoch 2/10\n",
            "54000/54000 [==============================] - 74s 1ms/sample - loss: 0.0831 - acc: 0.9744 - val_loss: 0.0571 - val_acc: 0.9847\n",
            "Epoch 3/10\n",
            "54000/54000 [==============================] - 72s 1ms/sample - loss: 0.0668 - acc: 0.9794 - val_loss: 0.0538 - val_acc: 0.9863\n",
            "Epoch 4/10\n",
            "54000/54000 [==============================] - 74s 1ms/sample - loss: 0.0609 - acc: 0.9816 - val_loss: 0.0574 - val_acc: 0.9858\n",
            "Epoch 5/10\n",
            "54000/54000 [==============================] - 72s 1ms/sample - loss: 0.0540 - acc: 0.9840 - val_loss: 0.0574 - val_acc: 0.9852\n",
            "Epoch 6/10\n",
            "54000/54000 [==============================] - 73s 1ms/sample - loss: 0.0514 - acc: 0.9850 - val_loss: 0.0520 - val_acc: 0.9857\n",
            "Epoch 7/10\n",
            "54000/54000 [==============================] - 72s 1ms/sample - loss: 0.0443 - acc: 0.9861 - val_loss: 0.0497 - val_acc: 0.9885\n",
            "Epoch 8/10\n",
            "54000/54000 [==============================] - 74s 1ms/sample - loss: 0.0456 - acc: 0.9864 - val_loss: 0.0562 - val_acc: 0.9853\n",
            "Epoch 9/10\n",
            "54000/54000 [==============================] - 72s 1ms/sample - loss: 0.0424 - acc: 0.9877 - val_loss: 0.0497 - val_acc: 0.9867\n",
            "Epoch 10/10\n",
            "54000/54000 [==============================] - 73s 1ms/sample - loss: 0.0370 - acc: 0.9894 - val_loss: 0.0475 - val_acc: 0.9890\n",
            "Model: \"sequential\"\n",
            "_________________________________________________________________\n",
            " Layer (type)                Output Shape              Param #   \n",
            "=================================================================\n",
            " conv2d (Conv2D)             (None, 28, 28, 32)        320       \n",
            "                                                                 \n",
            " max_pooling2d (MaxPooling2D  (None, 14, 14, 32)       0         \n",
            " )                                                               \n",
            "                                                                 \n",
            " conv2d_1 (Conv2D)           (None, 14, 14, 64)        18496     \n",
            "                                                                 \n",
            " max_pooling2d_1 (MaxPooling  (None, 7, 7, 64)         0         \n",
            " 2D)                                                             \n",
            "                                                                 \n",
            " flatten (Flatten)           (None, 3136)              0         \n",
            "                                                                 \n",
            " dropout (Dropout)           (None, 3136)              0         \n",
            "                                                                 \n",
            " dense (Dense)               (None, 10)                31370     \n",
            "                                                                 \n",
            "=================================================================\n",
            "Total params: 50,186\n",
            "Trainable params: 50,186\n",
            "Non-trainable params: 0\n",
            "_________________________________________________________________\n"
          ]
        }
      ]
    },
    {
      "cell_type": "code",
      "source": [
        "score = model.evaluate(x_test, y_test, verbose=0)\n",
        "print(\"Test loss:\", score[0])\n",
        "print(\"Test accuracy:\", score[1])"
      ],
      "metadata": {
        "id": "99FveB1yAkLA",
        "colab": {
          "base_uri": "https://localhost:8080/"
        },
        "outputId": "d17bb8df-254e-49d2-d15f-f769b98d20ce"
      },
      "execution_count": 111,
      "outputs": [
        {
          "output_type": "stream",
          "name": "stdout",
          "text": [
            "Test loss: 0.058315290701597064\n",
            "Test accuracy: 0.9867\n"
          ]
        }
      ]
    }
  ]
}